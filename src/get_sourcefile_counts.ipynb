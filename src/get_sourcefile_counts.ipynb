{
 "cells": [
  {
   "cell_type": "code",
   "execution_count": 231,
   "metadata": {},
   "outputs": [],
   "source": [
    "import os\n",
    "import sys\n",
    "from compmusic.dunya import conn\n",
    "import os\n",
    "import codecs\n",
    "import compmusic\n",
    "from compmusic import dunya as dn\n",
    "from compmusic.dunya import hindustani as hi\n",
    "from compmusic.dunya import carnatic as ca\n",
    "from compmusic.dunya import docserver as ds\n",
    "from compmusic import musicbrainz\n",
    "import json\n",
    "import numpy as np\n",
    "import requests\n",
    "import json\n",
    "import pandas as pd"
   ]
  },
  {
   "cell_type": "code",
   "execution_count": 182,
   "metadata": {},
   "outputs": [],
   "source": [
    "token = \"\" #<get your api token form: https://dunya.compmusic.upf.edu/user/profile/>\n",
    "\n",
    "# Ids of CC collection for both Carnatic and Hindustani music tradition\n",
    "carnatic_cc = dict(id='a163c8f2-b75f-4655-86be-1504ea2944c2',\n",
    "                  name='carnatic')\n",
    "hindustani_cc = dict(id='6adc54c6-6605-4e57-8230-b85f1de5be2b',\n",
    "                  name='hindustani')\n",
    "collections = [carnatic_cc, hindustani_cc]"
   ]
  },
  {
   "cell_type": "code",
   "execution_count": 192,
   "metadata": {},
   "outputs": [],
   "source": [
    "headers = {\"Authorization\": \"Token %s\" % token}"
   ]
  },
  {
   "cell_type": "code",
   "execution_count": 184,
   "metadata": {},
   "outputs": [],
   "source": [
    "def get_mbids_in_collection(collection_id, music_tradition, token):\n",
    "    \"\"\"\n",
    "    fetches mbids in a collection\n",
    "    \"\"\"\n",
    "    if music_tradition == 'hindustani':\n",
    "        tradition = hi\n",
    "    elif music_tradition == 'carnatic':\n",
    "        tradition = ca        \n",
    "    \n",
    "    dn.set_token(token)\n",
    "    tradition.set_collections([collection_id])\n",
    "    recs = tradition.get_recordings()\n",
    "    return [r['mbid'] for r in recs]"
   ]
  },
  {
   "cell_type": "code",
   "execution_count": 230,
   "metadata": {},
   "outputs": [
    {
     "name": "stdout",
     "output_type": "stream",
     "text": [
      "Issue with: a163c8f2-b75f-4655-86be-1504ea2944c2, c79c3d8f-29a2-40cd-85f7-cc98da4b4532\n",
      "Issue with: a163c8f2-b75f-4655-86be-1504ea2944c2, 14c18b73-88a7-4092-9317-13ff31254b35\n"
     ]
    }
   ],
   "source": [
    "output = []\n",
    "for collection in collections[:1]:\n",
    "    mbids = get_mbids_in_collection(collection['id'], collection['name'], token)\n",
    "    for mbid in mbids:\n",
    "        try:\n",
    "            path = \"document/by-id/%s\" % (mbid)        \n",
    "            url = conn._make_url(path)\n",
    "            out = requests.get(url, headers=headers)\n",
    "            content = json.loads(out.content)\n",
    "            mapp = dict(zip(content['sourcefiles'], np.ones(len(content['sourcefiles']))))\n",
    "            mapp.update(dict(mbid=mbid, collection=collection['name']))\n",
    "        except:\n",
    "            print(\"Issue with: %s, %s\"%(collection['id'], mbid))\n",
    "        output.append(mapp)"
   ]
  },
  {
   "cell_type": "code",
   "execution_count": 232,
   "metadata": {},
   "outputs": [],
   "source": [
    "output_df = pd.DataFrame(output)"
   ]
  },
  {
   "cell_type": "code",
   "execution_count": 237,
   "metadata": {},
   "outputs": [],
   "source": [
    "carn = output_df[output_df.collection=='carnatic']"
   ]
  },
  {
   "cell_type": "code",
   "execution_count": 244,
   "metadata": {},
   "outputs": [
    {
     "data": {
      "text/plain": [
       "tempo-manual                  133\n",
       "sections-manual               119\n",
       "pitch-vocal                    56\n",
       "sections-manual-p             119\n",
       "bpm-manual                    119\n",
       "mphrases-manual               117\n",
       "sama-manual                   141\n",
       "mp3                           251\n",
       "multitrack-mridangam-right    170\n",
       "multitrack-vocal              170\n",
       "multitrack-mridangam-left     170\n",
       "multitrack-ghatam              46\n",
       "multitrack-violin             170\n",
       "zip                            84\n",
       "multitrack-vocal-s             24\n",
       "dtype: int64"
      ]
     },
     "execution_count": 244,
     "metadata": {},
     "output_type": "execute_result"
    }
   ],
   "source": [
    "carn[['tempo-manual', 'sections-manual', 'pitch-vocal', 'sections-manual-p',\n",
    "       'bpm-manual', 'mphrases-manual', 'sama-manual', 'mp3',\n",
    "       'multitrack-mridangam-right', 'multitrack-vocal',\n",
    "       'multitrack-mridangam-left', 'multitrack-ghatam', 'multitrack-violin',\n",
    "       'zip', 'multitrack-vocal-s']].sum().astype(int)"
   ]
  },
  {
   "cell_type": "code",
   "execution_count": 242,
   "metadata": {},
   "outputs": [
    {
     "data": {
      "text/plain": [
       "'audio 197\\npitch 197\\npitch_vocal 56\\ntonic 197\\nsama 141\\nbpm 119\\ntempo 133\\nsections 119\\nphrases 117'"
      ]
     },
     "execution_count": 242,
     "metadata": {},
     "output_type": "execute_result"
    }
   ],
   "source": [
    "audio 197\n",
    "pitch 197\n",
    "pitch_vocal 56\n",
    "tonic 197\n",
    "sama 141\n",
    "bpm 119\n",
    "tempo 133\n",
    "sections 119\n",
    "phrases 117"
   ]
  },
  {
   "cell_type": "code",
   "execution_count": null,
   "metadata": {},
   "outputs": [],
   "source": [
    "class Saraga"
   ]
  }
 ],
 "metadata": {
  "kernelspec": {
   "display_name": "Python 3",
   "language": "python",
   "name": "python3"
  },
  "language_info": {
   "codemirror_mode": {
    "name": "ipython",
    "version": 3
   },
   "file_extension": ".py",
   "mimetype": "text/x-python",
   "name": "python",
   "nbconvert_exporter": "python",
   "pygments_lexer": "ipython3",
   "version": "3.7.1"
  }
 },
 "nbformat": 4,
 "nbformat_minor": 4
}
