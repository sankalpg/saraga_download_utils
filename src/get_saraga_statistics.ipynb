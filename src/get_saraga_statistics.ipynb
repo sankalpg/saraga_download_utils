{
 "cells": [
  {
   "cell_type": "markdown",
   "metadata": {},
   "source": [
    "# Objective\n",
    "\n",
    "This script get number of entities in saraga dataset"
   ]
  },
  {
   "cell_type": "code",
   "execution_count": 2,
   "metadata": {},
   "outputs": [],
   "source": [
    "import codecs\n",
    "import compmusic\n",
    "from compmusic import dunya as dn\n",
    "from compmusic.dunya import hindustani as hi\n",
    "from compmusic.dunya import carnatic as ca\n",
    "from compmusic.dunya import docserver as ds\n",
    "from compmusic import musicbrainz\n",
    "import numpy as np\n",
    "import pandas as pd\n",
    "from compmusic.dunya import conn\n",
    "import requests\n",
    "import json"
   ]
  },
  {
   "cell_type": "code",
   "execution_count": 106,
   "metadata": {},
   "outputs": [],
   "source": [
    "class SaragaStatistics():\n",
    "    \n",
    "    def __init__(self, token, collection=None):\n",
    "        \"\"\"\n",
    "        Initializing the class...\n",
    "        \n",
    "        collection: str\n",
    "            Name of the collection (carnatic, hindustani)\n",
    "        \"\"\"\n",
    "        self.token = token\n",
    "        self.config = self.__get_configs()\n",
    "        \n",
    "        if collection is not None:\n",
    "            if collection not in self.collections_df.name.unique():\n",
    "                raise IOError(\"Collection name not in repo, choose either 'carnatic' or 'hindustani'\")\n",
    "            else:\n",
    "                self.collections_df = self.collections_df[self.collections_df.name==collection]\n",
    "        \n",
    "    \n",
    "    def __get_configs(self):\n",
    "        \"\"\"\n",
    "        There are many sort of mappings and collection of ids, its good to keep them in one place\n",
    "        \"\"\"\n",
    "        ## Collection ids etc\n",
    "        carnatic_cc = dict(id='a163c8f2-b75f-4655-86be-1504ea2944c2',\n",
    "                  name='carnatic')\n",
    "        hindustani_cc = dict(id='6adc54c6-6605-4e57-8230-b85f1de5be2b',\n",
    "                  name='hindustani')\n",
    "        collections = [carnatic_cc, hindustani_cc]\n",
    "        self.collections_df = pd.DataFrame(collections)\n",
    "        \n",
    "        \n",
    "        # Entity types in Carnatic and Hindustani have different names, mapping them to one variable for easy processing\n",
    "        self.mapp={}\n",
    "        for collection in collections:\n",
    "            if collection['name']=='hindustani':\n",
    "                concert = 'release'  \n",
    "                work = 'works'\n",
    "                raga = 'raags'\n",
    "                tala = 'taals'\n",
    "                form = 'forms'\n",
    "                laya = 'layas'\n",
    "                lead_artists = 'album_artists'\n",
    "                artists = 'artists'\n",
    "            elif collection['name']=='carnatic':\n",
    "                concert = 'concert'  # in carnatic album level items are referred by 'concerts'\n",
    "                work = 'work'\n",
    "                raga = 'raaga'\n",
    "                tala = 'taala'\n",
    "                form = 'form'\n",
    "                laya = 'laya'        \n",
    "                lead_artists = 'album_artists'\n",
    "                artists = 'artists'\n",
    "            entities = [concert, work, raga, tala, form, laya, artists, lead_artists, 'length']\n",
    "            id_mapping = {concert: 'mbid', work: 'mbid', raga: 'uuid', tala: 'uuid', form: 'name', laya: 'uuid', lead_artists: 'mbid', artists: 'mbid'}\n",
    "            self.mapp[collection['name']] = dict(entities=entities,\n",
    "                                     id_mapping=id_mapping)\n",
    "            \n",
    "            self.slug_info = pd.DataFrame([dict(thetype='mp3', subtype='source', file_type='mp3', name='audio'),\n",
    "             dict(thetype='pitch', subtype='pitch', file_type='txt', name='pitch'),\n",
    "            dict(thetype='pitch-vocal', subtype='source', file_type='txt', name='pitch_vocal'),\n",
    "             dict(thetype='ctonic', subtype='tonic', file_type='txt', name='tonic'),\n",
    "             dict(thetype='sama-manual', subtype='source', file_type='txt', name='sama'),\n",
    "             dict(thetype='bpm-manual', subtype='source', file_type='txt', name='bpm'),\n",
    "             dict(thetype='tempo-manual', subtype='source', file_type='txt', name='tempo'),\n",
    "             dict(thetype='sections-manual-p', subtype='source', file_type='txt', name='sections'),\n",
    "             dict(thetype='mphrases-manual', subtype='source', file_type='txt', name='phrases'),\n",
    "            dict(thetype='multitrack-vocal', subtype='source', file_type='mp3', name='vocal'),\n",
    "            dict(thetype='multitrack-vocal-s', subtype='source', file_type='mp3', name='vocal_s'),\n",
    "            dict(thetype='multitrack-violin', subtype='source', file_type='mp3', name='violin'),\n",
    "            dict(thetype='multitrack-ghatam', subtype='source', file_type='mp3', name='ghatam'),\n",
    "            dict(thetype='multitrack-mridangam-left', subtype='source', file_type='mp3', name='mridangam_left'),\n",
    "            dict(thetype='multitrack-mridangam-right', subtype='source', file_type='mp3', name='mridangam_right')                      \n",
    "     ])\n",
    "    \n",
    "    def get_mbids_in_collection(self, collection_id, music_tradition, token):\n",
    "        \"\"\"\n",
    "        fetches mbids in a collection\n",
    "        \"\"\"\n",
    "        tradition = None\n",
    "        if music_tradition == 'hindustani':\n",
    "            tradition = hi\n",
    "        elif music_tradition == 'carnatic':\n",
    "            tradition = ca        \n",
    "\n",
    "        if tradition: \n",
    "            dn.set_token(token)\n",
    "            tradition.set_collections([collection_id])\n",
    "            recs = tradition.get_recordings()\n",
    "            return [r['mbid'] for r in recs]\n",
    "        else:\n",
    "            raise IOError(\"wrong music tradition string\")\n",
    "\n",
    "    def get_collection_stats(self, music_tradition, token,  mbids):\n",
    "        \"\"\"\n",
    "        Fetches number of different \"unique\" entities link to all the recordings of a collection\n",
    "        This function also returns total length of the recordings in a collection\n",
    "        \"\"\"\n",
    "\n",
    "        if music_tradition == 'hindustani':\n",
    "            tradition = hi\n",
    "        elif music_tradition == 'carnatic':\n",
    "            tradition = ca        \n",
    "\n",
    "        dn.set_token(token)    \n",
    "        entities = self.mapp[music_tradition]['entities']\n",
    "        stats = dict(zip(entities, [[] for e in entities]))\n",
    "        for mbid in mbids:\n",
    "            rec_info = tradition.get_recording(mbid)\n",
    "            for e in entities:\n",
    "                if e in rec_info:\n",
    "                    if e == 'artists':\n",
    "                        temp = [x['artist'] for x in rec_info[e]]\n",
    "                        stats[e].extend([x[self.mapp[music_tradition]['id_mapping'][e]] for x in temp])\n",
    "                    elif e=='length':\n",
    "                        stats[e].append(rec_info[e])\n",
    "                    else:\n",
    "                        stats[e].extend([x[self.mapp[music_tradition]['id_mapping'][e]] for x in rec_info[e]])\n",
    "        return stats\n",
    "    \n",
    "    def get_metadata_stats(self):\n",
    "        self.stats = {}\n",
    "        for index, row in self.collections_df.iterrows():\n",
    "            print()\n",
    "            mbids_collection = self.get_mbids_in_collection(row['id'], row['name'], self.token)\n",
    "#             print('------------------------------------------------')\n",
    "#             print(\"Statistis for %s collection\"%collection['name'])\n",
    "#             print('------------------------------------------------')\n",
    "#             print(\"Number of recordings: %d\"%len(mbids_collection))\n",
    "            self.stats[row['name']] = self.get_collection_stats(row['name'], self.token, mbids_collection)\n",
    "            self.stats[row['name']].update(dict(num_mbids=len(mbids_collection)))\n",
    "        \n",
    "    def get_file_stats(self):\n",
    "        output = []\n",
    "        headers = {\"Authorization\": \"Token %s\" % self.token}\n",
    "        for index, row in self.collections_df.iterrows():\n",
    "            mbids = self.get_mbids_in_collection(row['id'], row['name'], self.token)\n",
    "            for mbid in mbids:\n",
    "                try:\n",
    "                    path = \"document/by-id/%s\" % (mbid)        \n",
    "                    url = conn._make_url(path)\n",
    "                    out = requests.get(url, headers=headers)\n",
    "                    content = json.loads(out.content)\n",
    "                    mapp = dict(zip(content['sourcefiles'], np.ones(len(content['sourcefiles']))))\n",
    "                    mapp.update(dict(mbid=mbid, collection=row['name']))\n",
    "                except:\n",
    "                    print(\"Issue with: %s, %s\"%(row['id'], mbid))\n",
    "                output.append(mapp)\n",
    "        self.file_stats = pd.DataFrame(output)\n",
    "    def print_pretty(self, type_='metadata_stats'):\n",
    "        if type_=='metadata_stats':\n",
    "            stats = self.stats\n",
    "            for tradition, trad_items in stats.items():\n",
    "                print('----------------------------------------')\n",
    "                print(\"Stats for %s tradition:\"%tradition)\n",
    "                for ent, nums in trad_items.items():\n",
    "                    if ent == 'num_mbids':\n",
    "                        print(\"Total number of recordings %d\"%nums)\n",
    "                    elif ent != 'length':\n",
    "                        print(\"Total number of unique %s are:%d\"%(ent, len(set(nums))))\n",
    "                    else:\n",
    "                        print(\"Total length of the recordings: %0.2f hrs\"%(np.sum(nums)/3600000.))"
   ]
  },
  {
   "cell_type": "code",
   "execution_count": 107,
   "metadata": {},
   "outputs": [],
   "source": [
    "obj = SaragaStatistics('60312f59428916bb854adaa208f55eb35c3f2f07')"
   ]
  },
  {
   "cell_type": "code",
   "execution_count": 108,
   "metadata": {},
   "outputs": [
    {
     "name": "stdout",
     "output_type": "stream",
     "text": [
      "Issue with: a163c8f2-b75f-4655-86be-1504ea2944c2, c79c3d8f-29a2-40cd-85f7-cc98da4b4532\n",
      "Issue with: a163c8f2-b75f-4655-86be-1504ea2944c2, 14c18b73-88a7-4092-9317-13ff31254b35\n"
     ]
    }
   ],
   "source": [
    "obj.get_file_stats()"
   ]
  },
  {
   "cell_type": "code",
   "execution_count": 110,
   "metadata": {},
   "outputs": [
    {
     "data": {
      "text/plain": [
       "tempo-manual                                                                208\n",
       "sections-manual                                                             194\n",
       "pitch-vocal                                                                  56\n",
       "sections-manual-p                                                           194\n",
       "bpm-manual                                                                  186\n",
       "mphrases-manual                                                             170\n",
       "sama-manual                                                                 216\n",
       "mp3                                                                         359\n",
       "multitrack-mridangam-right                                                  170\n",
       "multitrack-vocal                                                            170\n",
       "multitrack-mridangam-left                                                   170\n",
       "multitrack-ghatam                                                            46\n",
       "multitrack-violin                                                           170\n",
       "mbid                          a05b885f-59af-4766-a82e-2fea4578cf089f5a5452-1...\n",
       "collection                    carnaticcarnaticcarnaticcarnaticcarnaticcarnat...\n",
       "zip                                                                         136\n",
       "multitrack-vocal-s                                                           24\n",
       "dtype: object"
      ]
     },
     "execution_count": 110,
     "metadata": {},
     "output_type": "execute_result"
    }
   ],
   "source": [
    "obj.file_stats.sum()"
   ]
  },
  {
   "cell_type": "code",
   "execution_count": null,
   "metadata": {},
   "outputs": [],
   "source": []
  },
  {
   "cell_type": "code",
   "execution_count": null,
   "metadata": {},
   "outputs": [],
   "source": []
  },
  {
   "cell_type": "code",
   "execution_count": 5,
   "metadata": {},
   "outputs": [],
   "source": [
    "# token = \"\" #<get your api token form: https://dunya.compmusic.upf.edu/user/profile/>\n",
    "\n",
    "# # Ids of CC collection for both Carnatic and Hindustani music tradition\n",
    "# carnatic_cc = dict(id='a163c8f2-b75f-4655-86be-1504ea2944c2',\n",
    "#                   name='carnatic')\n",
    "# hindustani_cc = dict(id='6adc54c6-6605-4e57-8230-b85f1de5be2b',\n",
    "#                   name='hindustani')\n",
    "# collections = [carnatic_cc, hindustani_cc]\n",
    "# collections_df = pd.DataFrame(collections)\n"
   ]
  },
  {
   "cell_type": "code",
   "execution_count": 3,
   "metadata": {},
   "outputs": [],
   "source": [
    "# # Entity types in Carnatic and Hindustani have different names, mapping them to one variable for easy processing\n",
    "# mapp={}\n",
    "# for collection in collections:\n",
    "#     if collection['name']=='hindustani':\n",
    "#         concert = 'release'  \n",
    "#         work = 'works'\n",
    "#         raga = 'raags'\n",
    "#         tala = 'taals'\n",
    "#         form = 'forms'\n",
    "#         laya = 'layas'\n",
    "#         lead_artists = 'album_artists'\n",
    "#         artists = 'artists'\n",
    "#     elif collection['name']=='carnatic':\n",
    "#         concert = 'concert'  # in carnatic album level items are referred by 'concerts'\n",
    "#         work = 'work'\n",
    "#         raga = 'raaga'\n",
    "#         tala = 'taala'\n",
    "#         form = 'form'\n",
    "#         laya = 'laya'        \n",
    "#         lead_artists = 'album_artists'\n",
    "#         artists = 'artists'\n",
    "#     entities = [concert, work, raga, tala, form, laya, artists, lead_artists, 'length']\n",
    "#     id_mapping = {concert: 'mbid', work: 'mbid', raga: 'uuid', tala: 'uuid', form: 'name', laya: 'uuid', lead_artists: 'mbid', artists: 'mbid'}\n",
    "#     mapp[collection['name']] = dict(entities=entities,\n",
    "#                              id_mapping=id_mapping)"
   ]
  },
  {
   "cell_type": "markdown",
   "metadata": {},
   "source": [
    "# Metadata related functions"
   ]
  },
  {
   "cell_type": "code",
   "execution_count": 12,
   "metadata": {},
   "outputs": [],
   "source": [
    "# def get_mbids_in_collection(collection_id, music_tradition, token):\n",
    "#     \"\"\"\n",
    "#     fetches mbids in a collection\n",
    "#     \"\"\"\n",
    "#     if music_tradition == 'hindustani':\n",
    "#         tradition = hi\n",
    "#     elif music_tradition == 'carnatic':\n",
    "#         tradition = ca        \n",
    "    \n",
    "#     dn.set_token(token)\n",
    "#     tradition.set_collections([collection_id])\n",
    "#     recs = tradition.get_recordings()\n",
    "#     return [r['mbid'] for r in recs]\n",
    "\n",
    "# def get_collection_stats(music_tradition, token,  mbids):\n",
    "#     \"\"\"\n",
    "#     Fetches number of different \"unique\" entities link to all the recordings of a collection\n",
    "#     This function also returns total length of the recordings in a collection\n",
    "#     \"\"\"\n",
    "    \n",
    "#     if music_tradition == 'hindustani':\n",
    "#         tradition = hi\n",
    "#     elif music_tradition == 'carnatic':\n",
    "#         tradition = ca        \n",
    "    \n",
    "#     dn.set_token(token)    \n",
    "#     entities = mapp[music_tradition]['entities']\n",
    "#     stats = dict(zip(entities, [[] for e in entities]))\n",
    "#     for mbid in mbids_collection:\n",
    "#         rec_info = tradition.get_recording(mbid)\n",
    "#         for e in entities:\n",
    "#             if e in rec_info:\n",
    "#                 if e == 'artists':\n",
    "#                     temp = [x['artist'] for x in rec_info[e]]\n",
    "#                     stats[e].extend([x[mapp[music_tradition]['id_mapping'][e]] for x in temp])\n",
    "#                 elif e=='length':\n",
    "#                     stats[e].append(rec_info[e])\n",
    "#                 else:\n",
    "#                     stats[e].extend([x[mapp[music_tradition]['id_mapping'][e]] for x in rec_info[e]])\n",
    "#     return stats"
   ]
  },
  {
   "cell_type": "markdown",
   "metadata": {},
   "source": [
    "# Get overall statistics about the Saraga datsets\n",
    "\n",
    "* Number of recordings, related works, artists etc"
   ]
  },
  {
   "cell_type": "code",
   "execution_count": 13,
   "metadata": {},
   "outputs": [],
   "source": [
    "# stats = {}\n",
    "# for collection in collections:\n",
    "#     mbids_collection = get_mbids_in_collection(collection['id'], collection['name'], token)\n",
    "#     print('------------------------------------------------')\n",
    "#     print(\"Statistis for %s collection\"%collection['name'])\n",
    "#     print('------------------------------------------------')\n",
    "#     print(\"Number of recordings: %d\"%len(mbids_collection))\n",
    "#     stats[collection['name']] = get_collection_stats(collection['name'], token, mbids_collection)\n",
    "#     stats[collection['name']].update(dict(num_mbids=len(mbids_collection)))"
   ]
  },
  {
   "cell_type": "code",
   "execution_count": 58,
   "metadata": {},
   "outputs": [],
   "source": [
    "# # Printing all the stats \n",
    "# for key, items in stats.items():\n",
    "#     print('----------------------------------------')\n",
    "#     print(\"Stats for %s:\"%key)\n",
    "#     for ent, nums in items.items():\n",
    "#         if ent == 'num_mbids':\n",
    "#             print(\"Total number of recordings %d\"%nums)\n",
    "#         elif ent != 'length':\n",
    "#             print(\"Total number of unique %s are:%d\"%(ent, len(set(nums))))\n",
    "#         else:\n",
    "#             print(\"Total length of the recordings: %d\"%np.sum(nums))"
   ]
  },
  {
   "cell_type": "code",
   "execution_count": 7,
   "metadata": {},
   "outputs": [],
   "source": []
  },
  {
   "cell_type": "code",
   "execution_count": null,
   "metadata": {},
   "outputs": [],
   "source": []
  },
  {
   "cell_type": "code",
   "execution_count": 5,
   "metadata": {},
   "outputs": [],
   "source": [
    "dn.set_token('')"
   ]
  },
  {
   "cell_type": "code",
   "execution_count": 6,
   "metadata": {},
   "outputs": [],
   "source": [
    "mbids = ca.get_recordings(recording_detail=True)"
   ]
  },
  {
   "cell_type": "code",
   "execution_count": 7,
   "metadata": {},
   "outputs": [
    {
     "data": {
      "text/plain": [
       "{'mbid': '88166f7e-a85d-4c7a-91ec-2f16831b7e79',\n",
       " 'title': 'Maya Tita Swaroopini',\n",
       " 'length': 1331000,\n",
       " 'artists': [{'artist': {'mbid': '4676e6c8-2862-435b-a02c-4d1077101885',\n",
       "    'name': 'M. D. Ramanathan'},\n",
       "   'instrument': {'mbid': 'd92884b7-ee0c-46d5-96f3-918196ba8c5b',\n",
       "    'name': 'Voice'},\n",
       "   'lead': True,\n",
       "   'attributes': 'lead vocals'}],\n",
       " 'raaga': [{'uuid': '9cedca68-4a9d-4170-bec3-0d1db1ff730e',\n",
       "   'name': 'Māyāmāḷavagauḷa',\n",
       "   'common_name': 'mayamalava gaula'}],\n",
       " 'taala': [{'uuid': '8c6c26db-e01a-4eef-ae0b-9f7e31a926e8',\n",
       "   'name': 'Rūpaka',\n",
       "   'common_name': 'rupaka'}],\n",
       " 'form': [{'name': 'Kriti'}],\n",
       " 'work': [{'mbid': '89f4de10-3245-4747-82c2-c85f2c9875f0',\n",
       "   'title': 'Mayatita Svarupini'}],\n",
       " 'concert': [{'mbid': '8fb848f1-caf8-4830-aba6-e2ecb1aa5696',\n",
       "   'title': 'Classical Vocal'}],\n",
       " 'album_artists': [{'mbid': '4676e6c8-2862-435b-a02c-4d1077101885',\n",
       "   'name': 'M. D. Ramanathan'}]}"
      ]
     },
     "execution_count": 7,
     "metadata": {},
     "output_type": "execute_result"
    }
   ],
   "source": [
    "mbids[0]"
   ]
  },
  {
   "cell_type": "code",
   "execution_count": null,
   "metadata": {},
   "outputs": [],
   "source": []
  },
  {
   "cell_type": "code",
   "execution_count": null,
   "metadata": {},
   "outputs": [],
   "source": []
  }
 ],
 "metadata": {
  "kernelspec": {
   "display_name": "Python 3",
   "language": "python",
   "name": "python3"
  },
  "language_info": {
   "codemirror_mode": {
    "name": "ipython",
    "version": 3
   },
   "file_extension": ".py",
   "mimetype": "text/x-python",
   "name": "python",
   "nbconvert_exporter": "python",
   "pygments_lexer": "ipython3",
   "version": "3.7.1"
  }
 },
 "nbformat": 4,
 "nbformat_minor": 4
}
