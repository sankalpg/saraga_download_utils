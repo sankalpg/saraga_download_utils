{
 "cells": [
  {
   "cell_type": "markdown",
   "metadata": {},
   "source": [
    "# Objective\n",
    "\n",
    "This script get number of entities in saraga dataset"
   ]
  },
  {
   "cell_type": "code",
   "execution_count": 1,
   "metadata": {},
   "outputs": [],
   "source": [
    "import codecs\n",
    "import compmusic\n",
    "from compmusic import dunya as dn\n",
    "from compmusic.dunya import hindustani as hi\n",
    "from compmusic.dunya import carnatic as ca\n",
    "from compmusic.dunya import docserver as ds\n",
    "from compmusic import musicbrainz\n",
    "import numpy as np"
   ]
  },
  {
   "cell_type": "code",
   "execution_count": 2,
   "metadata": {},
   "outputs": [],
   "source": [
    "token = \"\" #<get your api token form: https://dunya.compmusic.upf.edu/user/profile/>\n",
    "\n",
    "# Ids of CC collection for both Carnatic and Hindustani music tradition\n",
    "carnatic_cc = dict(id='a163c8f2-b75f-4655-86be-1504ea2944c2',\n",
    "                  name='carnatic')\n",
    "hindustani_cc = dict(id='6adc54c6-6605-4e57-8230-b85f1de5be2b',\n",
    "                  name='hindustani')\n",
    "collections = [carnatic_cc, hindustani_cc]"
   ]
  },
  {
   "cell_type": "code",
   "execution_count": 3,
   "metadata": {},
   "outputs": [],
   "source": [
    "# Entity types in Carnatic and Hindustani have different names, mapping them to one variable for easy processing\n",
    "mapp={}\n",
    "for collection in collections:\n",
    "    if collection['name']=='hindustani':\n",
    "        concert = 'release'  \n",
    "        work = 'works'\n",
    "        raga = 'raags'\n",
    "        tala = 'taals'\n",
    "        form = 'forms'\n",
    "        laya = 'layas'\n",
    "        lead_artists = 'album_artists'\n",
    "        artists = 'artists'\n",
    "    elif collection['name']=='carnatic':\n",
    "        concert = 'concert'  # in carnatic album level items are referred by 'concerts'\n",
    "        work = 'work'\n",
    "        raga = 'raaga'\n",
    "        tala = 'taala'\n",
    "        form = 'form'\n",
    "        laya = 'laya'        \n",
    "        lead_artists = 'album_artists'\n",
    "        artists = 'artists'\n",
    "    entities = [concert, work, raga, tala, form, laya, artists, lead_artists, 'length']\n",
    "    id_mapping = {concert: 'mbid', work: 'mbid', raga: 'uuid', tala: 'uuid', form: 'name', laya: 'uuid', lead_artists: 'mbid', artists: 'mbid'}\n",
    "    mapp[collection['name']] = dict(entities=entities,\n",
    "                             id_mapping=id_mapping)"
   ]
  },
  {
   "cell_type": "markdown",
   "metadata": {},
   "source": [
    "# Metadata related functions"
   ]
  },
  {
   "cell_type": "code",
   "execution_count": 4,
   "metadata": {},
   "outputs": [],
   "source": [
    "def get_mbids_in_collection(collection_id, music_tradition, token):\n",
    "    \"\"\"\n",
    "    fetches mbids in a collection\n",
    "    \"\"\"\n",
    "    if music_tradition == 'hindustani':\n",
    "        tradition = hi\n",
    "    elif music_tradition == 'carnatic':\n",
    "        tradition = ca        \n",
    "    \n",
    "    dn.set_token(token)\n",
    "    tradition.set_collections([collection_id])\n",
    "    recs = tradition.get_recordings()\n",
    "    return [r['mbid'] for r in recs]\n",
    "\n",
    "def get_collection_stats(music_tradition, token,  mbids):\n",
    "    \"\"\"\n",
    "    Fetches number of different \"unique\" entities link to all the recordings of a collection\n",
    "    This function also returns total length of the recordings in a collection\n",
    "    \"\"\"\n",
    "    \n",
    "    if music_tradition == 'hindustani':\n",
    "        tradition = hi\n",
    "    elif music_tradition == 'carnatic':\n",
    "        tradition = ca        \n",
    "    \n",
    "    dn.set_token(token)    \n",
    "    entities = mapp[music_tradition]['entities']\n",
    "    stats = dict(zip(entities, [[] for e in entities]))\n",
    "    for mbid in mbids_collection:\n",
    "        rec_info = tradition.get_recording(mbid)\n",
    "        for e in entities:\n",
    "            if e in rec_info:\n",
    "                if e == 'artists':\n",
    "                    temp = [x['artist'] for x in rec_info[e]]\n",
    "                    stats[e].extend([x[mapp[music_tradition]['id_mapping'][e]] for x in temp])\n",
    "                elif e=='length':\n",
    "                    stats[e].append(rec_info[e])\n",
    "                else:\n",
    "                    stats[e].extend([x[mapp[music_tradition]['id_mapping'][e]] for x in rec_info[e]])\n",
    "    return stats"
   ]
  },
  {
   "cell_type": "markdown",
   "metadata": {},
   "source": [
    "# Get overall statistics about the Saraga datsets\n",
    "\n",
    "* Number of recordings, related works, artists etc"
   ]
  },
  {
   "cell_type": "code",
   "execution_count": 5,
   "metadata": {},
   "outputs": [
    {
     "name": "stdout",
     "output_type": "stream",
     "text": [
      "------------------------------------------------\n",
      "Statistis for carnatic collection\n",
      "------------------------------------------------\n",
      "Number of recordings: 197\n",
      "------------------------------------------------\n",
      "Statistis for hindustani collection\n",
      "------------------------------------------------\n",
      "Number of recordings: 108\n"
     ]
    }
   ],
   "source": [
    "stats = {}\n",
    "for collection in collections:\n",
    "    mbids_collection = get_mbids_in_collection(collection['id'], collection['name'], token)\n",
    "    print('------------------------------------------------')\n",
    "    print(\"Statistis for %s collection\"%collection['name'])\n",
    "    print('------------------------------------------------')\n",
    "    print(\"Number of recordings: %d\"%len(mbids_collection))\n",
    "    stats[collection['name']] = get_collection_stats(collection['name'], token, mbids_collection)\n",
    "    stats[collection['name']].update(dict(num_mbids=len(mbids_collection)))"
   ]
  },
  {
   "cell_type": "code",
   "execution_count": 6,
   "metadata": {},
   "outputs": [
    {
     "name": "stdout",
     "output_type": "stream",
     "text": [
      "----------------------------------------\n",
      "Stats for carnatic:\n",
      "Total number of unique concert are:19\n",
      "Total number of unique work are:175\n",
      "Total number of unique raaga are:96\n",
      "Total number of unique taala are:10\n",
      "Total number of unique form are:12\n",
      "Total number of unique laya are:0\n",
      "Total number of unique artists are:57\n",
      "Total number of unique album_artists are:17\n",
      "Total length of the recordings: 148046611\n",
      "Total number of recordings 197\n",
      "----------------------------------------\n",
      "Stats for hindustani:\n",
      "Total number of unique release are:36\n",
      "Total number of unique works are:113\n",
      "Total number of unique raags are:61\n",
      "Total number of unique taals are:9\n",
      "Total number of unique forms are:5\n",
      "Total number of unique layas are:2\n",
      "Total number of unique artists are:36\n",
      "Total number of unique album_artists are:11\n",
      "Total length of the recordings: 156929783\n",
      "Total number of recordings 108\n"
     ]
    }
   ],
   "source": [
    "# Printing all the stats \n",
    "for key, items in stats.items():\n",
    "    print('----------------------------------------')\n",
    "    print(\"Stats for %s:\"%key)\n",
    "    for ent, nums in items.items():\n",
    "        if ent == 'num_mbids':\n",
    "            print(\"Total number of recordings %d\"%nums)\n",
    "        elif ent != 'length':\n",
    "            print(\"Total number of unique %s are:%d\"%(ent, len(set(nums))))\n",
    "        else:\n",
    "            print(\"Total length of the recordings: %d\"%np.sum(nums))"
   ]
  },
  {
   "cell_type": "code",
   "execution_count": null,
   "metadata": {},
   "outputs": [],
   "source": []
  }
 ],
 "metadata": {
  "kernelspec": {
   "display_name": "Python 3",
   "language": "python",
   "name": "python3"
  },
  "language_info": {
   "codemirror_mode": {
    "name": "ipython",
    "version": 3
   },
   "file_extension": ".py",
   "mimetype": "text/x-python",
   "name": "python",
   "nbconvert_exporter": "python",
   "pygments_lexer": "ipython3",
   "version": "3.7.1"
  }
 },
 "nbformat": 4,
 "nbformat_minor": 4
}
