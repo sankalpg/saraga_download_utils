{
 "cells": [
  {
   "cell_type": "code",
   "execution_count": null,
   "metadata": {},
   "outputs": [],
   "source": [
    "import os\n",
    "import sys"
   ]
  },
  {
   "cell_type": "code",
   "execution_count": null,
   "metadata": {},
   "outputs": [],
   "source": [
    "def GetFileNamesInDir(dir_name, substring=\".wav\"):\n",
    "    names = []\n",
    "    for (path, dirs, files) in os.walk(dir_name):\n",
    "        for f in files:\n",
    "            if f.endswith(substring):\n",
    "                names.append(f)\n",
    "                \n",
    "    return names\n",
    "\n",
    "def GetFileNamesInDir_2(dir_name, substring=\".wav\"):\n",
    "    names = []\n",
    "    for (path, dirs, files) in os.walk(dir_name):\n",
    "        for ii, f in enumerate(files):\n",
    "            if f.endswith(substring):\n",
    "                names.append(path)\n",
    "                \n",
    "    return names"
   ]
  },
  {
   "cell_type": "code",
   "execution_count": null,
   "metadata": {},
   "outputs": [],
   "source": [
    "files_download = dict(audio=dict(thetype='mp3', subtype='source', file_type='mp3'),\n",
    "             pitch=dict(thetype='pitch', subtype='pitch', file_type='txt'),\n",
    "            pitch_vocal=dict(thetype='pitch-vocal', subtype='source', file_type='txt'),\n",
    "             tonic=dict(thetype='ctonic', subtype='tonic', file_type='txt'),\n",
    "             sama=dict(thetype='sama-manual', subtype='source', file_type='txt'),\n",
    "             bpm=dict(thetype='bpm-manual', subtype='source', file_type='txt'),\n",
    "             tempo=dict(thetype='tempo-manual', subtype='source', file_type='txt'),\n",
    "             sections=dict(thetype='sections-manual-p', subtype='source', file_type='txt'),\n",
    "             phrases=dict(thetype='mphrases-manual', subtype='source', file_type='txt')\n",
    "            )"
   ]
  },
  {
   "cell_type": "code",
   "execution_count": null,
   "metadata": {},
   "outputs": [],
   "source": [
    "root_dir = \"\"# path to the directory"
   ]
  },
  {
   "cell_type": "code",
   "execution_count": null,
   "metadata": {},
   "outputs": [],
   "source": [
    "print(root_dir)\n",
    "for feature_type, feature_info in files_download.items():\n",
    "    if feature_info['thetype'] == 'mp3':\n",
    "        ext = \".%s\"%(feature_info['thetype'])\n",
    "    else:\n",
    "        ext = \".%s.%s\"%(feature_info['thetype'], feature_info['file_type'])\n",
    "    files = GetFileNamesInDir(root_dir, ext)\n",
    "    print(feature_type, len(files))"
   ]
  },
  {
   "cell_type": "markdown",
   "metadata": {},
   "source": [
    "# Stats\n",
    "\n",
    "## Carnatic downloaded\n",
    "    audio 197\n",
    "    pitch 197\n",
    "    pitch_vocal 56\n",
    "    tonic 197\n",
    "    sama 141\n",
    "    bpm 119\n",
    "    tempo 133\n",
    "    sections 119\n",
    "    phrases 117\n",
    "    \n",
    "## Carnatic Zenodo\n",
    "    audio 197\n",
    "    pitch 197\n",
    "    pitch_vocal 56\n",
    "    tonic 197\n",
    "    sama 141\n",
    "    bpm 119\n",
    "    tempo 133\n",
    "    sections 119\n",
    "    phrases 117\n",
    "    \n",
    "## Hindustani downloaded\n",
    "    audio 108\n",
    "    pitch 108\n",
    "    pitch_vocal 0\n",
    "    tonic 108\n",
    "    sama 75\n",
    "    bpm 67\n",
    "    tempo 75\n",
    "    sections 75\n",
    "    phrases 53\n",
    "\n",
    "## Hindustani Zenodo\n",
    "\n",
    "    audio 108\n",
    "    pitch 108\n",
    "    pitch_vocal 0\n",
    "    tonic 108\n",
    "    sama 75\n",
    "    bpm 67\n",
    "    tempo 75\n",
    "    sections 75\n",
    "    phrases 53"
   ]
  }
 ],
 "metadata": {
  "kernelspec": {
   "display_name": "Python 3",
   "language": "python",
   "name": "python3"
  },
  "language_info": {
   "codemirror_mode": {
    "name": "ipython",
    "version": 3
   },
   "file_extension": ".py",
   "mimetype": "text/x-python",
   "name": "python",
   "nbconvert_exporter": "python",
   "pygments_lexer": "ipython3",
   "version": "3.7.1"
  }
 },
 "nbformat": 4,
 "nbformat_minor": 4
}
